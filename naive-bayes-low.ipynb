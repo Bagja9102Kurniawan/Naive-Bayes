{
 "cells": [
  {
   "cell_type": "markdown",
   "metadata": {},
   "source": [
    "# Naive Bayes pada Review Restoran"
   ]
  },
  {
   "cell_type": "code",
   "execution_count": 1,
   "metadata": {},
   "outputs": [],
   "source": [
    "import pandas as pd"
   ]
  },
  {
   "cell_type": "code",
   "execution_count": 2,
   "metadata": {},
   "outputs": [
    {
     "data": {
      "text/html": [
       "<div>\n",
       "<style scoped>\n",
       "    .dataframe tbody tr th:only-of-type {\n",
       "        vertical-align: middle;\n",
       "    }\n",
       "\n",
       "    .dataframe tbody tr th {\n",
       "        vertical-align: top;\n",
       "    }\n",
       "\n",
       "    .dataframe thead th {\n",
       "        text-align: right;\n",
       "    }\n",
       "</style>\n",
       "<table border=\"1\" class=\"dataframe\">\n",
       "  <thead>\n",
       "    <tr style=\"text-align: right;\">\n",
       "      <th></th>\n",
       "      <th>review</th>\n",
       "      <th>label</th>\n",
       "    </tr>\n",
       "  </thead>\n",
       "  <tbody>\n",
       "    <tr>\n",
       "      <td>0</td>\n",
       "      <td>Simply loved it</td>\n",
       "      <td>1</td>\n",
       "    </tr>\n",
       "    <tr>\n",
       "      <td>1</td>\n",
       "      <td>Most disgusting food I have ever had</td>\n",
       "      <td>0</td>\n",
       "    </tr>\n",
       "    <tr>\n",
       "      <td>2</td>\n",
       "      <td>Stay away, very disgusting food!</td>\n",
       "      <td>0</td>\n",
       "    </tr>\n",
       "    <tr>\n",
       "      <td>3</td>\n",
       "      <td>Menu is absolutely perfect, loved it!</td>\n",
       "      <td>1</td>\n",
       "    </tr>\n",
       "    <tr>\n",
       "      <td>4</td>\n",
       "      <td>A really good value for money</td>\n",
       "      <td>1</td>\n",
       "    </tr>\n",
       "    <tr>\n",
       "      <td>5</td>\n",
       "      <td>This is a very good restaurant</td>\n",
       "      <td>1</td>\n",
       "    </tr>\n",
       "    <tr>\n",
       "      <td>6</td>\n",
       "      <td>Terrible experience!</td>\n",
       "      <td>0</td>\n",
       "    </tr>\n",
       "    <tr>\n",
       "      <td>7</td>\n",
       "      <td>This place has best food</td>\n",
       "      <td>1</td>\n",
       "    </tr>\n",
       "    <tr>\n",
       "      <td>8</td>\n",
       "      <td>This place has most pathetic serving food!</td>\n",
       "      <td>0</td>\n",
       "    </tr>\n",
       "  </tbody>\n",
       "</table>\n",
       "</div>"
      ],
      "text/plain": [
       "                                       review  label\n",
       "0                             Simply loved it      1\n",
       "1        Most disgusting food I have ever had      0\n",
       "2            Stay away, very disgusting food!      0\n",
       "3       Menu is absolutely perfect, loved it!      1\n",
       "4               A really good value for money      1\n",
       "5              This is a very good restaurant      1\n",
       "6                        Terrible experience!      0\n",
       "7                    This place has best food      1\n",
       "8  This place has most pathetic serving food!      0"
      ]
     },
     "execution_count": 2,
     "metadata": {},
     "output_type": "execute_result"
    }
   ],
   "source": [
    "dataset = pd.read_csv('dataset.txt')\n",
    "\n",
    "dataset"
   ]
  },
  {
   "cell_type": "code",
   "execution_count": 3,
   "metadata": {},
   "outputs": [],
   "source": [
    "# Satukan kata-kata menjadi kalimat dari dataset.\n",
    "str_true = ''\n",
    "str_false = ''\n",
    "\n",
    "# Jumlah label.\n",
    "n_true = 0\n",
    "n_false = 0\n",
    "\n",
    "for _, data in dataset.iterrows():\n",
    "    if data['label'] == 1:\n",
    "        str_true += data['review'] + ' '\n",
    "        n_true += 1\n",
    "    else:\n",
    "        str_false += data['review'] + ' '\n",
    "        n_false += 1"
   ]
  },
  {
   "cell_type": "code",
   "execution_count": 4,
   "metadata": {},
   "outputs": [
    {
     "data": {
      "text/plain": [
       "'Simply loved it Menu is absolutely perfect, loved it! A really good value for money This is a very good restaurant This place has best food '"
      ]
     },
     "execution_count": 4,
     "metadata": {},
     "output_type": "execute_result"
    }
   ],
   "source": [
    "str_true"
   ]
  },
  {
   "cell_type": "code",
   "execution_count": 5,
   "metadata": {},
   "outputs": [
    {
     "data": {
      "text/plain": [
       "'Most disgusting food I have ever had Stay away, very disgusting food! Terrible experience! This place has most pathetic serving food! '"
      ]
     },
     "execution_count": 5,
     "metadata": {},
     "output_type": "execute_result"
    }
   ],
   "source": [
    "str_false"
   ]
  },
  {
   "cell_type": "code",
   "execution_count": 6,
   "metadata": {},
   "outputs": [],
   "source": [
    "# Preprocessing.\n",
    "str_true_preproceed = ''\n",
    "str_false_preproceed = ''\n",
    "\n",
    "# Ngehilangin huruf selain alphabet.\n",
    "for temp in str_true:\n",
    "    if (temp.isalpha() or temp == ' '):\n",
    "        str_true_preproceed += temp\n",
    "        \n",
    "for temp in str_false:\n",
    "    if (temp.isalpha() or temp == ' '):\n",
    "        str_false_preproceed += temp\n",
    "\n",
    "# Lowercase.\n",
    "str_true_preproceed = str_true_preproceed.lower()[:-1]\n",
    "str_false_preproceed = str_false_preproceed.lower()[:-1]"
   ]
  },
  {
   "cell_type": "code",
   "execution_count": 7,
   "metadata": {},
   "outputs": [
    {
     "data": {
      "text/plain": [
       "'simply loved it menu is absolutely perfect loved it a really good value for money this is a very good restaurant this place has best food'"
      ]
     },
     "execution_count": 7,
     "metadata": {},
     "output_type": "execute_result"
    }
   ],
   "source": [
    "str_true_preproceed"
   ]
  },
  {
   "cell_type": "code",
   "execution_count": 8,
   "metadata": {},
   "outputs": [
    {
     "data": {
      "text/plain": [
       "'most disgusting food i have ever had stay away very disgusting food terrible experience this place has most pathetic serving food'"
      ]
     },
     "execution_count": 8,
     "metadata": {},
     "output_type": "execute_result"
    }
   ],
   "source": [
    "str_false_preproceed"
   ]
  },
  {
   "cell_type": "code",
   "execution_count": 9,
   "metadata": {},
   "outputs": [],
   "source": [
    "# Kardinalitas semua kata dalam dataset.\n",
    "V = len(set((str_true_preproceed + ' '\n",
    "             + str_false_preproceed).split()))"
   ]
  },
  {
   "cell_type": "code",
   "execution_count": 10,
   "metadata": {},
   "outputs": [],
   "source": [
    "# Training (Bag of Words)\n",
    "bow_true = {}\n",
    "bow_false = {}\n",
    "\n",
    "for word in str_true_preproceed.split(' '):\n",
    "    if word in bow_true.keys():\n",
    "        bow_true[word] += 1\n",
    "    else:\n",
    "        bow_true[word] = 1\n",
    "        \n",
    "for word in str_false_preproceed.split(' '):\n",
    "    if word in bow_false.keys():\n",
    "        bow_false[word] += 1\n",
    "    else:\n",
    "        bow_false[word] = 1"
   ]
  },
  {
   "cell_type": "code",
   "execution_count": 11,
   "metadata": {},
   "outputs": [
    {
     "data": {
      "text/plain": [
       "{'simply': 1,\n",
       " 'loved': 2,\n",
       " 'it': 2,\n",
       " 'menu': 1,\n",
       " 'is': 2,\n",
       " 'absolutely': 1,\n",
       " 'perfect': 1,\n",
       " 'a': 2,\n",
       " 'really': 1,\n",
       " 'good': 2,\n",
       " 'value': 1,\n",
       " 'for': 1,\n",
       " 'money': 1,\n",
       " 'this': 2,\n",
       " 'very': 1,\n",
       " 'restaurant': 1,\n",
       " 'place': 1,\n",
       " 'has': 1,\n",
       " 'best': 1,\n",
       " 'food': 1}"
      ]
     },
     "execution_count": 11,
     "metadata": {},
     "output_type": "execute_result"
    }
   ],
   "source": [
    "bow_true"
   ]
  },
  {
   "cell_type": "code",
   "execution_count": 12,
   "metadata": {},
   "outputs": [
    {
     "data": {
      "text/plain": [
       "{'most': 2,\n",
       " 'disgusting': 2,\n",
       " 'food': 3,\n",
       " 'i': 1,\n",
       " 'have': 1,\n",
       " 'ever': 1,\n",
       " 'had': 1,\n",
       " 'stay': 1,\n",
       " 'away': 1,\n",
       " 'very': 1,\n",
       " 'terrible': 1,\n",
       " 'experience': 1,\n",
       " 'this': 1,\n",
       " 'place': 1,\n",
       " 'has': 1,\n",
       " 'pathetic': 1,\n",
       " 'serving': 1}"
      ]
     },
     "execution_count": 12,
     "metadata": {},
     "output_type": "execute_result"
    }
   ],
   "source": [
    "bow_false"
   ]
  },
  {
   "cell_type": "code",
   "execution_count": 14,
   "metadata": {},
   "outputs": [],
   "source": [
    "# Ngitung yang bawah.\n",
    "sum_bow_true = sum(bow_true.values()) + V + 1\n",
    "sum_bow_false = sum(bow_false.values()) + V + 1"
   ]
  },
  {
   "cell_type": "code",
   "execution_count": 15,
   "metadata": {},
   "outputs": [],
   "source": [
    "# Increment tiap jumlah word dalam BoW.\n",
    "for key in bow_true.keys():\n",
    "    bow_true[key] += 1\n",
    "    \n",
    "for key in bow_false.keys():\n",
    "    bow_false[key] += 1"
   ]
  },
  {
   "cell_type": "code",
   "execution_count": 16,
   "metadata": {},
   "outputs": [
    {
     "data": {
      "text/plain": [
       "{'simply': 2,\n",
       " 'loved': 3,\n",
       " 'it': 3,\n",
       " 'menu': 2,\n",
       " 'is': 3,\n",
       " 'absolutely': 2,\n",
       " 'perfect': 2,\n",
       " 'a': 3,\n",
       " 'really': 2,\n",
       " 'good': 3,\n",
       " 'value': 2,\n",
       " 'for': 2,\n",
       " 'money': 2,\n",
       " 'this': 3,\n",
       " 'very': 2,\n",
       " 'restaurant': 2,\n",
       " 'place': 2,\n",
       " 'has': 2,\n",
       " 'best': 2,\n",
       " 'food': 2}"
      ]
     },
     "execution_count": 16,
     "metadata": {},
     "output_type": "execute_result"
    }
   ],
   "source": [
    "bow_true"
   ]
  },
  {
   "cell_type": "code",
   "execution_count": 17,
   "metadata": {},
   "outputs": [
    {
     "data": {
      "text/plain": [
       "{'most': 3,\n",
       " 'disgusting': 3,\n",
       " 'food': 4,\n",
       " 'i': 2,\n",
       " 'have': 2,\n",
       " 'ever': 2,\n",
       " 'had': 2,\n",
       " 'stay': 2,\n",
       " 'away': 2,\n",
       " 'very': 2,\n",
       " 'terrible': 2,\n",
       " 'experience': 2,\n",
       " 'this': 2,\n",
       " 'place': 2,\n",
       " 'has': 2,\n",
       " 'pathetic': 2,\n",
       " 'serving': 2}"
      ]
     },
     "execution_count": 17,
     "metadata": {},
     "output_type": "execute_result"
    }
   ],
   "source": [
    "bow_false"
   ]
  },
  {
   "cell_type": "code",
   "execution_count": 18,
   "metadata": {},
   "outputs": [],
   "source": [
    "# Hitung probabilitas tiap word dalam BoW.\n",
    "bow_true_prob = {}\n",
    "bow_false_prob = {}\n",
    "\n",
    "for key in bow_true.keys():\n",
    "    bow_true_prob[key] = bow_true[key] / sum_bow_true\n",
    "\n",
    "for key in bow_false.keys():\n",
    "    bow_false_prob[key] = bow_false[key] / sum_bow_false"
   ]
  },
  {
   "cell_type": "code",
   "execution_count": 19,
   "metadata": {},
   "outputs": [
    {
     "data": {
      "text/plain": [
       "{'simply': 0.03389830508474576,\n",
       " 'loved': 0.05084745762711865,\n",
       " 'it': 0.05084745762711865,\n",
       " 'menu': 0.03389830508474576,\n",
       " 'is': 0.05084745762711865,\n",
       " 'absolutely': 0.03389830508474576,\n",
       " 'perfect': 0.03389830508474576,\n",
       " 'a': 0.05084745762711865,\n",
       " 'really': 0.03389830508474576,\n",
       " 'good': 0.05084745762711865,\n",
       " 'value': 0.03389830508474576,\n",
       " 'for': 0.03389830508474576,\n",
       " 'money': 0.03389830508474576,\n",
       " 'this': 0.05084745762711865,\n",
       " 'very': 0.03389830508474576,\n",
       " 'restaurant': 0.03389830508474576,\n",
       " 'place': 0.03389830508474576,\n",
       " 'has': 0.03389830508474576,\n",
       " 'best': 0.03389830508474576,\n",
       " 'food': 0.03389830508474576}"
      ]
     },
     "execution_count": 19,
     "metadata": {},
     "output_type": "execute_result"
    }
   ],
   "source": [
    "bow_true_prob"
   ]
  },
  {
   "cell_type": "code",
   "execution_count": 20,
   "metadata": {},
   "outputs": [
    {
     "data": {
      "text/plain": [
       "{'most': 0.05555555555555555,\n",
       " 'disgusting': 0.05555555555555555,\n",
       " 'food': 0.07407407407407407,\n",
       " 'i': 0.037037037037037035,\n",
       " 'have': 0.037037037037037035,\n",
       " 'ever': 0.037037037037037035,\n",
       " 'had': 0.037037037037037035,\n",
       " 'stay': 0.037037037037037035,\n",
       " 'away': 0.037037037037037035,\n",
       " 'very': 0.037037037037037035,\n",
       " 'terrible': 0.037037037037037035,\n",
       " 'experience': 0.037037037037037035,\n",
       " 'this': 0.037037037037037035,\n",
       " 'place': 0.037037037037037035,\n",
       " 'has': 0.037037037037037035,\n",
       " 'pathetic': 0.037037037037037035,\n",
       " 'serving': 0.037037037037037035}"
      ]
     },
     "execution_count": 20,
     "metadata": {},
     "output_type": "execute_result"
    }
   ],
   "source": [
    "bow_false_prob"
   ]
  },
  {
   "cell_type": "markdown",
   "metadata": {},
   "source": [
    "# Contoh Prediksi"
   ]
  },
  {
   "cell_type": "code",
   "execution_count": 21,
   "metadata": {},
   "outputs": [],
   "source": [
    "sentence = 'Very good food and service!'"
   ]
  },
  {
   "cell_type": "code",
   "execution_count": 22,
   "metadata": {},
   "outputs": [
    {
     "data": {
      "text/plain": [
       "'very good food and service'"
      ]
     },
     "execution_count": 22,
     "metadata": {},
     "output_type": "execute_result"
    }
   ],
   "source": [
    "# Preprocessing.\n",
    "sentence_preproceed = ''\n",
    "\n",
    "for word in sentence:\n",
    "    if (word.isalpha() or word == ' '):\n",
    "        sentence_preproceed += word\n",
    "\n",
    "sentence_preproceed = sentence_preproceed.lower()\n",
    "sentence_preproceed"
   ]
  },
  {
   "cell_type": "code",
   "execution_count": 23,
   "metadata": {},
   "outputs": [],
   "source": [
    "# Hitung probabilitas dia masuk label positif atau negatif.\n",
    "res_true = 1\n",
    "res_false = 1\n",
    "\n",
    "for word in sentence_preproceed.split():\n",
    "    if word in bow_true.keys():\n",
    "        res_true *= bow_true_prob[word]\n",
    "    else:\n",
    "        res_true *= 1 / sum_bow_true\n",
    "\n",
    "for word in sentence_preproceed.split():\n",
    "    if word in bow_false.keys():\n",
    "        res_false *= bow_false_prob[word]\n",
    "    else:\n",
    "        res_false *= 1 / sum_bow_false\n",
    "        \n",
    "res_true *= n_true / (n_true+n_false)\n",
    "res_false *= n_false / (n_true+n_false)"
   ]
  },
  {
   "cell_type": "code",
   "execution_count": 25,
   "metadata": {},
   "outputs": [
    {
     "data": {
      "text/plain": [
       "9.324996612916451e-09"
      ]
     },
     "execution_count": 25,
     "metadata": {},
     "output_type": "execute_result"
    }
   ],
   "source": [
    "res_true # Probabilitas positif"
   ]
  },
  {
   "cell_type": "code",
   "execution_count": 26,
   "metadata": {},
   "outputs": [
    {
     "data": {
      "text/plain": [
       "7.74352437513959e-09"
      ]
     },
     "execution_count": 26,
     "metadata": {},
     "output_type": "execute_result"
    }
   ],
   "source": [
    "res_false # Probabilitas negatif"
   ]
  },
  {
   "cell_type": "code",
   "execution_count": 27,
   "metadata": {
    "scrolled": true
   },
   "outputs": [
    {
     "name": "stdout",
     "output_type": "stream",
     "text": [
      "Positif\n"
     ]
    }
   ],
   "source": [
    "# Bandingkan.\n",
    "if res_true > res_false:\n",
    "    print('Positif')\n",
    "else:\n",
    "    print('Negatif')"
   ]
  }
 ],
 "metadata": {
  "kernelspec": {
   "display_name": "Python 3",
   "language": "python",
   "name": "python3"
  },
  "language_info": {
   "codemirror_mode": {
    "name": "ipython",
    "version": 3
   },
   "file_extension": ".py",
   "mimetype": "text/x-python",
   "name": "python",
   "nbconvert_exporter": "python",
   "pygments_lexer": "ipython3",
   "version": "3.7.4"
  }
 },
 "nbformat": 4,
 "nbformat_minor": 2
}
